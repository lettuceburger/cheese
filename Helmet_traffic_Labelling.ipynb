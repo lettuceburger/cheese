{
  "nbformat": 4,
  "nbformat_minor": 0,
  "metadata": {
    "colab": {
      "name": "Helmet_traffic_Labelling.ipynb",
      "provenance": [],
      "authorship_tag": "ABX9TyMsDvP6ffdvHANrFmZbjwzN",
      "include_colab_link": true
    },
    "kernelspec": {
      "name": "python3",
      "display_name": "Python 3"
    }
  },
  "cells": [
    {
      "cell_type": "markdown",
      "metadata": {
        "id": "view-in-github",
        "colab_type": "text"
      },
      "source": [
        "<a href=\"https://colab.research.google.com/github/lettuceburger/cheese/blob/master/Helmet_traffic_Labelling.ipynb\" target=\"_parent\"><img src=\"https://colab.research.google.com/assets/colab-badge.svg\" alt=\"Open In Colab\"/></a>"
      ]
    },
    {
      "cell_type": "code",
      "metadata": {
        "id": "06_1LY16gEHP",
        "colab_type": "code",
        "colab": {}
      },
      "source": [
        "import tensorflow as tf"
      ],
      "execution_count": null,
      "outputs": []
    },
    {
      "cell_type": "code",
      "metadata": {
        "id": "BW1AtSqqgOrX",
        "colab_type": "code",
        "colab": {
          "base_uri": "https://localhost:8080/",
          "height": 122
        },
        "outputId": "498e77b9-b57c-4813-aae3-cda1a9620bf5"
      },
      "source": [
        "from google.colab import drive\n",
        "drive.mount('/content/drive')"
      ],
      "execution_count": null,
      "outputs": [
        {
          "output_type": "stream",
          "text": [
            "Go to this URL in a browser: https://accounts.google.com/o/oauth2/auth?client_id=947318989803-6bn6qk8qdgf4n4g3pfee6491hc0brc4i.apps.googleusercontent.com&redirect_uri=urn%3aietf%3awg%3aoauth%3a2.0%3aoob&response_type=code&scope=email%20https%3a%2f%2fwww.googleapis.com%2fauth%2fdocs.test%20https%3a%2f%2fwww.googleapis.com%2fauth%2fdrive%20https%3a%2f%2fwww.googleapis.com%2fauth%2fdrive.photos.readonly%20https%3a%2f%2fwww.googleapis.com%2fauth%2fpeopleapi.readonly\n",
            "\n",
            "Enter your authorization code:\n",
            "··········\n",
            "Mounted at /content/drive\n"
          ],
          "name": "stdout"
        }
      ]
    },
    {
      "cell_type": "code",
      "metadata": {
        "id": "9oggT36BgYnp",
        "colab_type": "code",
        "colab": {}
      },
      "source": [
        "##Import libraries\n",
        "from keras.models import Sequential\n",
        "from keras.layers import Conv2D\n",
        "from keras.layers import MaxPooling2D\n",
        "from keras.layers import Flatten\n",
        "from keras.layers import Dense"
      ],
      "execution_count": null,
      "outputs": []
    },
    {
      "cell_type": "code",
      "metadata": {
        "id": "I51waNcogPfS",
        "colab_type": "code",
        "colab": {
          "base_uri": "https://localhost:8080/",
          "height": 71
        },
        "outputId": "81f0d311-d109-4f2f-fe79-7bc3133f8cd4"
      },
      "source": [
        "## Initialising the CNN\n",
        "classifier = Sequential()"
      ],
      "execution_count": null,
      "outputs": [
        {
          "output_type": "stream",
          "text": [
            "WARNING:tensorflow:From /usr/local/lib/python3.6/dist-packages/keras/backend/tensorflow_backend.py:66: The name tf.get_default_graph is deprecated. Please use tf.compat.v1.get_default_graph instead.\n",
            "\n"
          ],
          "name": "stdout"
        }
      ]
    },
    {
      "cell_type": "code",
      "metadata": {
        "id": "mv6H22VEgzfj",
        "colab_type": "code",
        "colab": {
          "base_uri": "https://localhost:8080/",
          "height": 139
        },
        "outputId": "cf0defb8-192a-40c1-fafc-fae627afea24"
      },
      "source": [
        "## Convolution(64 feature detector of dimension 3 by 3), input shape 3 layer for color image)\n",
        "classifier.add(Conv2D(64,(3,3),input_shape = (64,64,3), activation = 'relu'))\n",
        "## MaxPooling\n",
        "classifier.add(MaxPooling2D(pool_size = (2,2)))\n",
        "\n",
        "## Add another layer\n",
        "classifier.add(Conv2D(64,(3,3), activation = 'relu'))\n",
        "classifier.add(MaxPooling2D(pool_size = (2,2)))\n",
        "\n",
        "## Add another layer\n",
        "classifier.add(Conv2D(64,(3,3), activation = 'relu'))\n",
        "classifier.add(MaxPooling2D(pool_size = (2,2)))\n"
      ],
      "execution_count": null,
      "outputs": [
        {
          "output_type": "stream",
          "text": [
            "WARNING:tensorflow:From /usr/local/lib/python3.6/dist-packages/keras/backend/tensorflow_backend.py:541: The name tf.placeholder is deprecated. Please use tf.compat.v1.placeholder instead.\n",
            "\n",
            "WARNING:tensorflow:From /usr/local/lib/python3.6/dist-packages/keras/backend/tensorflow_backend.py:4432: The name tf.random_uniform is deprecated. Please use tf.random.uniform instead.\n",
            "\n",
            "WARNING:tensorflow:From /usr/local/lib/python3.6/dist-packages/keras/backend/tensorflow_backend.py:4267: The name tf.nn.max_pool is deprecated. Please use tf.nn.max_pool2d instead.\n",
            "\n"
          ],
          "name": "stdout"
        }
      ]
    },
    {
      "cell_type": "code",
      "metadata": {
        "id": "6aGFbryWg2vP",
        "colab_type": "code",
        "colab": {}
      },
      "source": [
        "## Flattening\n",
        "classifier.add(Flatten())"
      ],
      "execution_count": null,
      "outputs": []
    },
    {
      "cell_type": "code",
      "metadata": {
        "id": "5J-KfwWvg7N1",
        "colab_type": "code",
        "colab": {}
      },
      "source": [
        "## Fully connected ANN, Hidden ANN and output layer\n",
        "classifier.add(Dense(units = 128, activation = 'relu'))\n"
      ],
      "execution_count": null,
      "outputs": []
    },
    {
      "cell_type": "code",
      "metadata": {
        "id": "PiPf_qG9g8-U",
        "colab_type": "code",
        "colab": {}
      },
      "source": [
        "#output layer\n",
        "classifier.add(Dense(units = 1, activation = 'sigmoid'))"
      ],
      "execution_count": null,
      "outputs": []
    },
    {
      "cell_type": "code",
      "metadata": {
        "id": "pqpHZYE1hACp",
        "colab_type": "code",
        "colab": {
          "base_uri": "https://localhost:8080/",
          "height": 156
        },
        "outputId": "7ed0ee83-6a1c-4c9e-c674-7ae1ffa9e08a"
      },
      "source": [
        "## Compliling\n",
        "classifier.compile(optimizer = 'adam', loss = 'binary_crossentropy', metrics = ['accuracy'])"
      ],
      "execution_count": null,
      "outputs": [
        {
          "output_type": "stream",
          "text": [
            "WARNING:tensorflow:From /usr/local/lib/python3.6/dist-packages/keras/optimizers.py:793: The name tf.train.Optimizer is deprecated. Please use tf.compat.v1.train.Optimizer instead.\n",
            "\n",
            "WARNING:tensorflow:From /usr/local/lib/python3.6/dist-packages/keras/backend/tensorflow_backend.py:3657: The name tf.log is deprecated. Please use tf.math.log instead.\n",
            "\n",
            "WARNING:tensorflow:From /usr/local/lib/python3.6/dist-packages/tensorflow_core/python/ops/nn_impl.py:183: where (from tensorflow.python.ops.array_ops) is deprecated and will be removed in a future version.\n",
            "Instructions for updating:\n",
            "Use tf.where in 2.0, which has the same broadcast rule as np.where\n"
          ],
          "name": "stdout"
        }
      ]
    },
    {
      "cell_type": "code",
      "metadata": {
        "id": "JAmVn7gphCm8",
        "colab_type": "code",
        "colab": {
          "base_uri": "https://localhost:8080/",
          "height": 493
        },
        "outputId": "f513e7c3-d398-4315-ccdd-028f36198973"
      },
      "source": [
        "classifier.summary()"
      ],
      "execution_count": null,
      "outputs": [
        {
          "output_type": "stream",
          "text": [
            "Model: \"sequential_1\"\n",
            "_________________________________________________________________\n",
            "Layer (type)                 Output Shape              Param #   \n",
            "=================================================================\n",
            "conv2d_1 (Conv2D)            (None, 62, 62, 64)        1792      \n",
            "_________________________________________________________________\n",
            "max_pooling2d_1 (MaxPooling2 (None, 31, 31, 64)        0         \n",
            "_________________________________________________________________\n",
            "conv2d_2 (Conv2D)            (None, 29, 29, 64)        36928     \n",
            "_________________________________________________________________\n",
            "max_pooling2d_2 (MaxPooling2 (None, 14, 14, 64)        0         \n",
            "_________________________________________________________________\n",
            "conv2d_3 (Conv2D)            (None, 12, 12, 64)        36928     \n",
            "_________________________________________________________________\n",
            "max_pooling2d_3 (MaxPooling2 (None, 6, 6, 64)          0         \n",
            "_________________________________________________________________\n",
            "flatten_1 (Flatten)          (None, 2304)              0         \n",
            "_________________________________________________________________\n",
            "dense_1 (Dense)              (None, 128)               295040    \n",
            "_________________________________________________________________\n",
            "dense_2 (Dense)              (None, 128)               16512     \n",
            "_________________________________________________________________\n",
            "dense_3 (Dense)              (None, 1)                 129       \n",
            "=================================================================\n",
            "Total params: 387,329\n",
            "Trainable params: 387,329\n",
            "Non-trainable params: 0\n",
            "_________________________________________________________________\n"
          ],
          "name": "stdout"
        }
      ]
    },
    {
      "cell_type": "code",
      "metadata": {
        "id": "Fvk4yTD8hE-a",
        "colab_type": "code",
        "colab": {}
      },
      "source": [
        "## data importing and transforming and scaling\n",
        "from keras.preprocessing.image import ImageDataGenerator\n",
        "train_datagen = ImageDataGenerator(rescale=1./255, zoom_range=0.2,horizontal_flip=True\n",
        "                                   )"
      ],
      "execution_count": null,
      "outputs": []
    },
    {
      "cell_type": "code",
      "metadata": {
        "id": "QFbY5VrVhKOg",
        "colab_type": "code",
        "colab": {}
      },
      "source": [
        "## Scaling test data\n",
        "##no  data augmentation\n",
        "test_datagen = ImageDataGenerator(rescale=1./255)"
      ],
      "execution_count": null,
      "outputs": []
    },
    {
      "cell_type": "code",
      "metadata": {
        "id": "gK4XcKe8hMnY",
        "colab_type": "code",
        "colab": {
          "base_uri": "https://localhost:8080/",
          "height": 34
        },
        "outputId": "25825a6f-d433-4dc0-d61d-6f12a4b46096"
      },
      "source": [
        "## Importing training data\n",
        "train_set = train_datagen.flow_from_directory('/content/drive/My Drive/helmet_detection/training',\n",
        "                                               target_size=(64, 64),\n",
        "                                               \n",
        "                                               class_mode='binary')"
      ],
      "execution_count": null,
      "outputs": [
        {
          "output_type": "stream",
          "text": [
            "Found 647 images belonging to 2 classes.\n"
          ],
          "name": "stdout"
        }
      ]
    },
    {
      "cell_type": "code",
      "metadata": {
        "id": "sorMiOjEhU-I",
        "colab_type": "code",
        "colab": {
          "base_uri": "https://localhost:8080/",
          "height": 34
        },
        "outputId": "1e545f16-8c08-4011-fb27-22583fd13b01"
      },
      "source": [
        "train_set.class_indices"
      ],
      "execution_count": null,
      "outputs": [
        {
          "output_type": "execute_result",
          "data": {
            "text/plain": [
              "{'with helmet': 0, 'without helmet': 1}"
            ]
          },
          "metadata": {
            "tags": []
          },
          "execution_count": 16
        }
      ]
    },
    {
      "cell_type": "code",
      "metadata": {
        "id": "9zGobaqYhaF6",
        "colab_type": "code",
        "colab": {
          "base_uri": "https://localhost:8080/",
          "height": 34
        },
        "outputId": "459b4784-9a01-4d8e-acb0-1edb28e6a2c0"
      },
      "source": [
        "#which is cat which is dog?\n",
        "label_map = (train_set.class_indices)\n",
        "print(label_map)"
      ],
      "execution_count": null,
      "outputs": [
        {
          "output_type": "stream",
          "text": [
            "{'with helmet': 0, 'without helmet': 1}\n"
          ],
          "name": "stdout"
        }
      ]
    },
    {
      "cell_type": "code",
      "metadata": {
        "id": "QOmKuYO9hcaa",
        "colab_type": "code",
        "colab": {
          "base_uri": "https://localhost:8080/",
          "height": 34
        },
        "outputId": "0e38f751-0d37-4c67-df94-ce0370d2ebf3"
      },
      "source": [
        "## Importng test data\n",
        "test_set = test_datagen.flow_from_directory('/content/drive/My Drive/helmet_detection/testing',\n",
        "                                            target_size=(64, 64),\n",
        "                                            \n",
        "                                            class_mode='binary')"
      ],
      "execution_count": null,
      "outputs": [
        {
          "output_type": "stream",
          "text": [
            "Found 208 images belonging to 2 classes.\n"
          ],
          "name": "stdout"
        }
      ]
    },
    {
      "cell_type": "code",
      "metadata": {
        "id": "c3MIzGVghkTb",
        "colab_type": "code",
        "colab": {
          "base_uri": "https://localhost:8080/",
          "height": 1000
        },
        "outputId": "b76dc5f0-d03c-4cc4-aa3f-76b83de38339"
      },
      "source": [
        "classifier.fit_generator(\n",
        "        train_set,\n",
        "        epochs=50,\n",
        "        validation_data=test_set\n",
        "        )"
      ],
      "execution_count": null,
      "outputs": [
        {
          "output_type": "stream",
          "text": [
            "WARNING:tensorflow:From /usr/local/lib/python3.6/dist-packages/keras/backend/tensorflow_backend.py:1033: The name tf.assign_add is deprecated. Please use tf.compat.v1.assign_add instead.\n",
            "\n",
            "WARNING:tensorflow:From /usr/local/lib/python3.6/dist-packages/keras/backend/tensorflow_backend.py:1020: The name tf.assign is deprecated. Please use tf.compat.v1.assign instead.\n",
            "\n",
            "WARNING:tensorflow:From /usr/local/lib/python3.6/dist-packages/keras/backend/tensorflow_backend.py:3005: The name tf.Session is deprecated. Please use tf.compat.v1.Session instead.\n",
            "\n",
            "Epoch 1/50\n",
            "WARNING:tensorflow:From /usr/local/lib/python3.6/dist-packages/keras/backend/tensorflow_backend.py:190: The name tf.get_default_session is deprecated. Please use tf.compat.v1.get_default_session instead.\n",
            "\n",
            "WARNING:tensorflow:From /usr/local/lib/python3.6/dist-packages/keras/backend/tensorflow_backend.py:197: The name tf.ConfigProto is deprecated. Please use tf.compat.v1.ConfigProto instead.\n",
            "\n",
            "WARNING:tensorflow:From /usr/local/lib/python3.6/dist-packages/keras/backend/tensorflow_backend.py:207: The name tf.global_variables is deprecated. Please use tf.compat.v1.global_variables instead.\n",
            "\n",
            "WARNING:tensorflow:From /usr/local/lib/python3.6/dist-packages/keras/backend/tensorflow_backend.py:216: The name tf.is_variable_initialized is deprecated. Please use tf.compat.v1.is_variable_initialized instead.\n",
            "\n",
            "WARNING:tensorflow:From /usr/local/lib/python3.6/dist-packages/keras/backend/tensorflow_backend.py:223: The name tf.variables_initializer is deprecated. Please use tf.compat.v1.variables_initializer instead.\n",
            "\n",
            "21/21 [==============================] - 109s 5s/step - loss: 0.6212 - acc: 0.6476 - val_loss: 0.4412 - val_acc: 0.8365\n",
            "Epoch 2/50\n",
            "21/21 [==============================] - 9s 409ms/step - loss: 0.5434 - acc: 0.7460 - val_loss: 0.6890 - val_acc: 0.6106\n",
            "Epoch 3/50\n",
            "21/21 [==============================] - 9s 408ms/step - loss: 0.4675 - acc: 0.7850 - val_loss: 0.3611 - val_acc: 0.8606\n",
            "Epoch 4/50\n",
            "21/21 [==============================] - 9s 406ms/step - loss: 0.4253 - acc: 0.8205 - val_loss: 0.3776 - val_acc: 0.8269\n",
            "Epoch 5/50\n",
            "21/21 [==============================] - 9s 406ms/step - loss: 0.3737 - acc: 0.8324 - val_loss: 0.3519 - val_acc: 0.8317\n",
            "Epoch 6/50\n",
            "21/21 [==============================] - 8s 403ms/step - loss: 0.3967 - acc: 0.8226 - val_loss: 0.3667 - val_acc: 0.8365\n",
            "Epoch 7/50\n",
            "21/21 [==============================] - 9s 407ms/step - loss: 0.3669 - acc: 0.8417 - val_loss: 0.6880 - val_acc: 0.7212\n",
            "Epoch 8/50\n",
            "21/21 [==============================] - 9s 408ms/step - loss: 0.3793 - acc: 0.8351 - val_loss: 0.5886 - val_acc: 0.7067\n",
            "Epoch 9/50\n",
            "21/21 [==============================] - 9s 410ms/step - loss: 0.3698 - acc: 0.8617 - val_loss: 0.4411 - val_acc: 0.8125\n",
            "Epoch 10/50\n",
            "21/21 [==============================] - 8s 403ms/step - loss: 0.3528 - acc: 0.8444 - val_loss: 0.2953 - val_acc: 0.8750\n",
            "Epoch 11/50\n",
            "21/21 [==============================] - 9s 415ms/step - loss: 0.3875 - acc: 0.8444 - val_loss: 0.6457 - val_acc: 0.7500\n",
            "Epoch 12/50\n",
            "21/21 [==============================] - 9s 406ms/step - loss: 0.3021 - acc: 0.8742 - val_loss: 0.4593 - val_acc: 0.8173\n",
            "Epoch 13/50\n",
            "21/21 [==============================] - 8s 403ms/step - loss: 0.2911 - acc: 0.8837 - val_loss: 0.8371 - val_acc: 0.6827\n",
            "Epoch 14/50\n",
            "21/21 [==============================] - 9s 425ms/step - loss: 0.2973 - acc: 0.8757 - val_loss: 0.3242 - val_acc: 0.8510\n",
            "Epoch 15/50\n",
            "21/21 [==============================] - 9s 413ms/step - loss: 0.2564 - acc: 0.9031 - val_loss: 0.3763 - val_acc: 0.8413\n",
            "Epoch 16/50\n",
            "21/21 [==============================] - 9s 412ms/step - loss: 0.2239 - acc: 0.9091 - val_loss: 0.4868 - val_acc: 0.8173\n",
            "Epoch 17/50\n",
            "21/21 [==============================] - 8s 399ms/step - loss: 0.2411 - acc: 0.9055 - val_loss: 0.3046 - val_acc: 0.8606\n",
            "Epoch 18/50\n",
            "21/21 [==============================] - 9s 414ms/step - loss: 0.2463 - acc: 0.9010 - val_loss: 0.3963 - val_acc: 0.8317\n",
            "Epoch 19/50\n",
            "21/21 [==============================] - 8s 402ms/step - loss: 0.2204 - acc: 0.9049 - val_loss: 0.2803 - val_acc: 0.8846\n",
            "Epoch 20/50\n",
            "21/21 [==============================] - 9s 411ms/step - loss: 0.2329 - acc: 0.9108 - val_loss: 0.2139 - val_acc: 0.9183\n",
            "Epoch 21/50\n",
            "21/21 [==============================] - 9s 409ms/step - loss: 0.1835 - acc: 0.9329 - val_loss: 0.3195 - val_acc: 0.8702\n",
            "Epoch 22/50\n",
            "21/21 [==============================] - 8s 404ms/step - loss: 0.1677 - acc: 0.9323 - val_loss: 0.2572 - val_acc: 0.8990\n",
            "Epoch 23/50\n",
            "21/21 [==============================] - 9s 418ms/step - loss: 0.1773 - acc: 0.9344 - val_loss: 0.4543 - val_acc: 0.8365\n",
            "Epoch 24/50\n",
            "21/21 [==============================] - 8s 403ms/step - loss: 0.1638 - acc: 0.9389 - val_loss: 0.1407 - val_acc: 0.9519\n",
            "Epoch 25/50\n",
            "21/21 [==============================] - 9s 407ms/step - loss: 0.1680 - acc: 0.9359 - val_loss: 0.1995 - val_acc: 0.9135\n",
            "Epoch 26/50\n",
            "21/21 [==============================] - 8s 400ms/step - loss: 0.1541 - acc: 0.9353 - val_loss: 0.3144 - val_acc: 0.8942\n",
            "Epoch 27/50\n",
            "21/21 [==============================] - 8s 403ms/step - loss: 0.1303 - acc: 0.9493 - val_loss: 0.4330 - val_acc: 0.8654\n",
            "Epoch 28/50\n",
            "21/21 [==============================] - 9s 411ms/step - loss: 0.1253 - acc: 0.9448 - val_loss: 0.1236 - val_acc: 0.9471\n",
            "Epoch 29/50\n",
            "21/21 [==============================] - 8s 404ms/step - loss: 0.0941 - acc: 0.9642 - val_loss: 0.1060 - val_acc: 0.9615\n",
            "Epoch 30/50\n",
            "21/21 [==============================] - 9s 410ms/step - loss: 0.1144 - acc: 0.9568 - val_loss: 0.1196 - val_acc: 0.9567\n",
            "Epoch 31/50\n",
            "21/21 [==============================] - 9s 406ms/step - loss: 0.1412 - acc: 0.9502 - val_loss: 0.2928 - val_acc: 0.8942\n",
            "Epoch 32/50\n",
            "21/21 [==============================] - 9s 417ms/step - loss: 0.1311 - acc: 0.9436 - val_loss: 0.1639 - val_acc: 0.9375\n",
            "Epoch 33/50\n",
            "21/21 [==============================] - 9s 407ms/step - loss: 0.0963 - acc: 0.9627 - val_loss: 0.3375 - val_acc: 0.8846\n",
            "Epoch 34/50\n",
            "21/21 [==============================] - 9s 409ms/step - loss: 0.0647 - acc: 0.9747 - val_loss: 0.1986 - val_acc: 0.9183\n",
            "Epoch 35/50\n",
            "21/21 [==============================] - 9s 422ms/step - loss: 0.0683 - acc: 0.9776 - val_loss: 0.0995 - val_acc: 0.9615\n",
            "Epoch 36/50\n",
            "21/21 [==============================] - 9s 425ms/step - loss: 0.1044 - acc: 0.9598 - val_loss: 0.1517 - val_acc: 0.9471\n",
            "Epoch 37/50\n",
            "21/21 [==============================] - 9s 431ms/step - loss: 0.1213 - acc: 0.9636 - val_loss: 0.1107 - val_acc: 0.9615\n",
            "Epoch 38/50\n",
            "21/21 [==============================] - 9s 412ms/step - loss: 0.1048 - acc: 0.9583 - val_loss: 0.4648 - val_acc: 0.8654\n",
            "Epoch 39/50\n",
            "21/21 [==============================] - 9s 405ms/step - loss: 0.1211 - acc: 0.9583 - val_loss: 0.1101 - val_acc: 0.9519\n",
            "Epoch 40/50\n",
            "21/21 [==============================] - 9s 406ms/step - loss: 0.0963 - acc: 0.9606 - val_loss: 0.0877 - val_acc: 0.9712\n",
            "Epoch 41/50\n",
            "21/21 [==============================] - 9s 414ms/step - loss: 0.1246 - acc: 0.9523 - val_loss: 0.1589 - val_acc: 0.9327\n",
            "Epoch 42/50\n",
            "21/21 [==============================] - 9s 410ms/step - loss: 0.0906 - acc: 0.9776 - val_loss: 0.3044 - val_acc: 0.8750\n",
            "Epoch 43/50\n",
            "21/21 [==============================] - 9s 417ms/step - loss: 0.0590 - acc: 0.9791 - val_loss: 0.0617 - val_acc: 0.9760\n",
            "Epoch 44/50\n",
            "21/21 [==============================] - 9s 414ms/step - loss: 0.0419 - acc: 0.9806 - val_loss: 0.0912 - val_acc: 0.9567\n",
            "Epoch 45/50\n",
            "21/21 [==============================] - 9s 418ms/step - loss: 0.0306 - acc: 0.9881 - val_loss: 0.0845 - val_acc: 0.9615\n",
            "Epoch 46/50\n",
            "21/21 [==============================] - 9s 430ms/step - loss: 0.0496 - acc: 0.9821 - val_loss: 0.1112 - val_acc: 0.9519\n",
            "Epoch 47/50\n",
            "21/21 [==============================] - 9s 405ms/step - loss: 0.0531 - acc: 0.9791 - val_loss: 0.0669 - val_acc: 0.9615\n",
            "Epoch 48/50\n",
            "21/21 [==============================] - 9s 413ms/step - loss: 0.1149 - acc: 0.9636 - val_loss: 0.1879 - val_acc: 0.9423\n",
            "Epoch 49/50\n",
            "21/21 [==============================] - 9s 411ms/step - loss: 0.0557 - acc: 0.9806 - val_loss: 0.0558 - val_acc: 0.9808\n",
            "Epoch 50/50\n",
            "21/21 [==============================] - 9s 423ms/step - loss: 0.0269 - acc: 0.9911 - val_loss: 0.0747 - val_acc: 0.9615\n"
          ],
          "name": "stdout"
        },
        {
          "output_type": "execute_result",
          "data": {
            "text/plain": [
              "<keras.callbacks.History at 0x7f624f2b7c88>"
            ]
          },
          "metadata": {
            "tags": []
          },
          "execution_count": 19
        }
      ]
    },
    {
      "cell_type": "code",
      "metadata": {
        "id": "Ro_H6nlbhrP-",
        "colab_type": "code",
        "colab": {}
      },
      "source": [
        "## prediction of single new data\n",
        "import numpy as np\n",
        "from keras.preprocessing import image\n",
        "test_image= image.load_img('/content/drive/My Drive/helmet_detection/single_prediction/110.jpg'\n",
        "                           ,target_size =(64,64))\n"
      ],
      "execution_count": null,
      "outputs": []
    },
    {
      "cell_type": "code",
      "metadata": {
        "id": "7mONEltVjMIK",
        "colab_type": "code",
        "colab": {
          "base_uri": "https://localhost:8080/",
          "height": 81
        },
        "outputId": "77f6547b-348d-4f9c-8545-9a91e9b4f7bb"
      },
      "source": [
        "test_image\n"
      ],
      "execution_count": null,
      "outputs": [
        {
          "output_type": "execute_result",
          "data": {
            "image/png": "[encoded data removed]",
            "text/plain": [
              "<PIL.Image.Image image mode=RGB size=64x64 at 0x7F624FB89C50>"
            ]
          },
          "metadata": {
            "tags": []
          },
          "execution_count": 50
        }
      ]
    },
    {
      "cell_type": "code",
      "metadata": {
        "id": "3yuyNvcejVNY",
        "colab_type": "code",
        "colab": {}
      },
      "source": [
        "## Convert image to array\n",
        "test_image = image.img_to_array(test_image)"
      ],
      "execution_count": null,
      "outputs": []
    },
    {
      "cell_type": "code",
      "metadata": {
        "id": "_VQgy4KSjYwQ",
        "colab_type": "code",
        "colab": {}
      },
      "source": [
        "## For single prediction change the dimension . \n",
        "\n",
        "test_image=test_image.reshape(1,64,64,3)"
      ],
      "execution_count": null,
      "outputs": []
    },
    {
      "cell_type": "code",
      "metadata": {
        "id": "LcGtMs5xja4E",
        "colab_type": "code",
        "colab": {
          "base_uri": "https://localhost:8080/",
          "height": 34
        },
        "outputId": "a381c345-6e8a-4897-c3db-2b00f45f8f15"
      },
      "source": [
        "result = classifier.predict(test_image)\n",
        "result"
      ],
      "execution_count": null,
      "outputs": [
        {
          "output_type": "execute_result",
          "data": {
            "text/plain": [
              "array([[1.]], dtype=float32)"
            ]
          },
          "metadata": {
            "tags": []
          },
          "execution_count": 53
        }
      ]
    },
    {
      "cell_type": "code",
      "metadata": {
        "id": "09So65QMjeKS",
        "colab_type": "code",
        "colab": {}
      },
      "source": [
        "## Class label of dog and cat\n",
        "\n",
        "if result == 1:\n",
        "    prediction = 'without helmet'\n",
        "else:\n",
        "   prediction = 'helmet'\n",
        "    "
      ],
      "execution_count": null,
      "outputs": []
    },
    {
      "cell_type": "code",
      "metadata": {
        "id": "NLd9RwP8j0up",
        "colab_type": "code",
        "colab": {
          "base_uri": "https://localhost:8080/",
          "height": 34
        },
        "outputId": "06f198c2-4ff0-4f51-ae00-b47e0fe0b444"
      },
      "source": [
        "prediction"
      ],
      "execution_count": null,
      "outputs": [
        {
          "output_type": "execute_result",
          "data": {
            "text/plain": [
              "'helmet'"
            ]
          },
          "metadata": {
            "tags": []
          },
          "execution_count": 47
        }
      ]
    },
    {
      "cell_type": "code",
      "metadata": {
        "id": "KBPia5sAj4Nu",
        "colab_type": "code",
        "colab": {}
      },
      "source": [
        ""
      ],
      "execution_count": null,
      "outputs": []
    }
  ]
}